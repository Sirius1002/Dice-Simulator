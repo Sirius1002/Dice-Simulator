{
  "nbformat": 4,
  "nbformat_minor": 0,
  "metadata": {
    "colab": {
      "provenance": [],
      "authorship_tag": "ABX9TyM/77GZ+2HfBLVnSlZg8dUj",
      "include_colab_link": true
    },
    "kernelspec": {
      "name": "python3",
      "display_name": "Python 3"
    },
    "language_info": {
      "name": "python"
    }
  },
  "cells": [
    {
      "cell_type": "markdown",
      "metadata": {
        "id": "view-in-github",
        "colab_type": "text"
      },
      "source": [
        "<a href=\"https://colab.research.google.com/github/Sirius1002/Dice-Simulator/blob/main/Dice_simulator.ipynb\" target=\"_parent\"><img src=\"https://colab.research.google.com/assets/colab-badge.svg\" alt=\"Open In Colab\"/></a>"
      ]
    },
    {
      "cell_type": "code",
      "execution_count": null,
      "metadata": {
        "colab": {
          "base_uri": "https://localhost:8080/"
        },
        "id": "A4zXj7FRyP8N",
        "outputId": "3f93d6e7-d496-4a2a-99c2-f3dd66d54693"
      },
      "outputs": [
        {
          "output_type": "stream",
          "name": "stdout",
          "text": [
            "1\n",
            "You want to roll again? (y/n) :y\n",
            "5\n",
            "You want to roll again? (y/n) :4\n",
            "your simulation ends here\n"
          ]
        }
      ],
      "source": [
        "import random\n",
        "again =True\n",
        "while again:\n",
        "  print(random.randint(1,6))\n",
        "  another_roll=input(\"You want to roll again? (y/n) :\")\n",
        "  if another_roll.lower() ==\"y\" :\n",
        "    continue\n",
        "  else:\n",
        "       print(\"your simulation ends here\")  \n",
        "       break \n",
        "       "
      ]
    }
  ]
}